{
 "cells": [
  {
   "cell_type": "code",
   "execution_count": 14,
   "metadata": {},
   "outputs": [],
   "source": [
    "from pyomo.environ import *\n",
    "import numpy as np\n",
    "# heron problem"
   ]
  },
  {
   "cell_type": "code",
   "execution_count": 15,
   "metadata": {},
   "outputs": [],
   "source": [
    "model = ConcreteModel()\n",
    "model.L=Param(initialize=256)\n",
    "model.h1=Param(initialize=2)\n",
    "model.h2=Param(initialize=3)\n",
    "model.d1=Var(bounds=(0,model.L), initialize=0)\n",
    "model.d2=Var(bounds=(0,model.L), initialize=0)\n",
    "model.x=Var(bounds=(0,model.L), initialize=0)\n",
    "model.C1=Constraint(expr=  model.d1**2==model.h1**2+model.x**2)\n",
    "model.C2=Constraint(expr=  model.d2**2==model.h2**2+(model.L-model.x)**2)\n",
    "model.f1=Objective(expr=model.d1+model.d2,sense=minimize )"
   ]
  },
  {
   "cell_type": "code",
   "execution_count": 16,
   "metadata": {},
   "outputs": [],
   "source": [
    "solver = SolverFactory('ipopt')\n",
    "results=solver.solve(model)"
   ]
  },
  {
   "cell_type": "code",
   "execution_count": 17,
   "metadata": {},
   "outputs": [
    {
     "name": "stdout",
     "output_type": "stream",
     "text": [
      "d1= 102.42\n",
      "d2= 153.63\n",
      "x= 102.4\n",
      "f1= 256.05\n"
     ]
    }
   ],
   "source": [
    "print('d1=' , round(value(model.d1),2))\n",
    "print('d2=' ,round(value(model.d2),2))\n",
    "print('x=' ,round(value(model.x),2))\n",
    "print('f1=' ,round(value(model.f1),2))"
   ]
  },
  {
   "cell_type": "code",
   "execution_count": null,
   "metadata": {},
   "outputs": [],
   "source": []
  }
 ],
 "metadata": {
  "kernelspec": {
   "display_name": "Python 3",
   "language": "python",
   "name": "python3"
  },
  "language_info": {
   "codemirror_mode": {
    "name": "ipython",
    "version": 3
   },
   "file_extension": ".py",
   "mimetype": "text/x-python",
   "name": "python",
   "nbconvert_exporter": "python",
   "pygments_lexer": "ipython3",
   "version": "3.8.8"
  },
  "varInspector": {
   "cols": {
    "lenName": 16,
    "lenType": 16,
    "lenVar": 40
   },
   "kernels_config": {
    "python": {
     "delete_cmd_postfix": "",
     "delete_cmd_prefix": "del ",
     "library": "var_list.py",
     "varRefreshCmd": "print(var_dic_list())"
    },
    "r": {
     "delete_cmd_postfix": ") ",
     "delete_cmd_prefix": "rm(",
     "library": "var_list.r",
     "varRefreshCmd": "cat(var_dic_list()) "
    }
   },
   "types_to_exclude": [
    "module",
    "function",
    "builtin_function_or_method",
    "instance",
    "_Feature"
   ],
   "window_display": false
  }
 },
 "nbformat": 4,
 "nbformat_minor": 4
}
