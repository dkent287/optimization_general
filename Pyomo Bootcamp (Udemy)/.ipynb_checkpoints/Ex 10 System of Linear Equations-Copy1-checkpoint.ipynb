{
 "cells": [
  {
   "cell_type": "code",
   "execution_count": 1,
   "metadata": {},
   "outputs": [],
   "source": [
    "from pyomo.environ import *\n",
    "import numpy as np"
   ]
  },
  {
   "cell_type": "code",
   "execution_count": 23,
   "metadata": {},
   "outputs": [],
   "source": [
    "model = AbstractModel()\n",
    "model.N = Set()\n",
    "model.M = Set()\n",
    "model.c = Param(model.N)\n",
    "model.a = Param(model.M, model.N)\n",
    "model.b = Param(model.M)\n",
    "model.x = Var(model.N, within=NonNegativeReals)\n",
    "def con_rule(model, m):\n",
    "    return sum(model.a[m,i]*model.x[i] for i in model.N) >= model.b[m]\n",
    "model.con = Constraint(model.M, rule=con_rule)\n",
    "\n",
    "def obj_rule(model):\n",
    "    return sum(model.c[i]*model.x[i] for i in model.N)\n",
    "model.OF = Objective(rule=obj_rule,sense=minimize)"
   ]
  },
  {
   "cell_type": "code",
   "execution_count": 24,
   "metadata": {},
   "outputs": [],
   "source": [
    "opt = SolverFactory('glpk')\n",
    "instance = model.create_instance('Ex 10.dat')\n",
    "results = opt.solve(instance) # solves and updates instance"
   ]
  },
  {
   "cell_type": "code",
   "execution_count": 27,
   "metadata": {},
   "outputs": [
    {
     "name": "stdout",
     "output_type": "stream",
     "text": [
      "X1=  1.33\n",
      "X2=  0.0\n",
      "OF= 9.33\n"
     ]
    }
   ],
   "source": [
    "for i in instance.N:\n",
    "    print('X'+str(i)+'= ',round(value(instance.x[i]),2))\n",
    "print('OF=',round(value(instance.OF),2))"
   ]
  },
  {
   "cell_type": "code",
   "execution_count": 28,
   "metadata": {},
   "outputs": [
    {
     "data": {
      "text/plain": [
       "<pyomo.core.base.set.OrderedSimpleSet at 0x223bd2e1970>"
      ]
     },
     "execution_count": 28,
     "metadata": {},
     "output_type": "execute_result"
    }
   ],
   "source": [
    "instance.N"
   ]
  },
  {
   "cell_type": "code",
   "execution_count": null,
   "metadata": {},
   "outputs": [],
   "source": []
  }
 ],
 "metadata": {
  "kernelspec": {
   "display_name": "Python 3 (ipykernel)",
   "language": "python",
   "name": "python3"
  },
  "language_info": {
   "codemirror_mode": {
    "name": "ipython",
    "version": 3
   },
   "file_extension": ".py",
   "mimetype": "text/x-python",
   "name": "python",
   "nbconvert_exporter": "python",
   "pygments_lexer": "ipython3",
   "version": "3.8.10"
  },
  "varInspector": {
   "cols": {
    "lenName": 16,
    "lenType": 16,
    "lenVar": 40
   },
   "kernels_config": {
    "python": {
     "delete_cmd_postfix": "",
     "delete_cmd_prefix": "del ",
     "library": "var_list.py",
     "varRefreshCmd": "print(var_dic_list())"
    },
    "r": {
     "delete_cmd_postfix": ") ",
     "delete_cmd_prefix": "rm(",
     "library": "var_list.r",
     "varRefreshCmd": "cat(var_dic_list()) "
    }
   },
   "types_to_exclude": [
    "module",
    "function",
    "builtin_function_or_method",
    "instance",
    "_Feature"
   ],
   "window_display": false
  }
 },
 "nbformat": 4,
 "nbformat_minor": 4
}
