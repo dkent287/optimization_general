{
 "cells": [
  {
   "cell_type": "code",
   "execution_count": 7,
   "metadata": {},
   "outputs": [],
   "source": [
    "from pyomo.environ import *\n",
    "import matplotlib.pyplot as plt\n",
    "import numpy as np\n",
    "import random"
   ]
  },
  {
   "cell_type": "code",
   "execution_count": 8,
   "metadata": {},
   "outputs": [],
   "source": [
    "model = AbstractModel()\n",
    "model.x1 = Var(bounds=(0,4), within=NonNegativeReals) \n",
    "model.x2 = Var(bounds=(0,4), within=NonNegativeReals) \n",
    "model.a11 = Param(mutable=True)\n",
    "model.eq1 = Constraint(expr=model.a11*model.x1+3*model.x2<=4)\n",
    "model.eq2 = Constraint(expr=9*model.x1+1*model.x2<=6)\n",
    "model.obj = Objective(expr=3*model.x1+1*model.x2, sense=maximize)"
   ]
  },
  {
   "cell_type": "code",
   "execution_count": 9,
   "metadata": {},
   "outputs": [
    {
     "name": "stdout",
     "output_type": "stream",
     "text": [
      "feasible\n"
     ]
    }
   ],
   "source": [
    "opt = SolverFactory('glpk')\n",
    "instance = model.create_instance()\n",
    "instance.a11=2\n",
    "results = opt.solve(instance) # solves and updates instance\n",
    "if (results.solver.status == SolverStatus.ok) and (results.solver.termination_condition == TerminationCondition.optimal):\n",
    "    print('feasible')\n",
    "elif (results.solver.termination_condition == TerminationCondition.infeasible):\n",
    "    print('infeasible')\n",
    "else:\n",
    "    print ('Solver Status:',  results.solver.status)"
   ]
  },
  {
   "cell_type": "code",
   "execution_count": 10,
   "metadata": {},
   "outputs": [
    {
     "name": "stdout",
     "output_type": "stream",
     "text": [
      "eq1 : Size=1, Index=None, Active=True\n",
      "    Key  : Lower : Body          : Upper : Active\n",
      "    None :  -Inf : a11*x1 + 3*x2 :   4.0 :   True\n",
      "eq2 : Size=1, Index=None, Active=True\n",
      "    Key  : Lower : Body      : Upper : Active\n",
      "    None :  -Inf : 9*x1 + x2 :   6.0 :   True\n"
     ]
    }
   ],
   "source": [
    "instance.eq1.pprint()\n",
    "instance.eq2.pprint()\n"
   ]
  },
  {
   "cell_type": "code",
   "execution_count": 11,
   "metadata": {},
   "outputs": [
    {
     "name": "stdout",
     "output_type": "stream",
     "text": [
      "X1=  0.56\n",
      "X2=  0.96\n",
      "OF=  2.64\n"
     ]
    }
   ],
   "source": [
    "print('X1= ',value(instance.x1))\n",
    "print('X2= ',value(instance.x2))\n",
    "print('OF= ',value(instance.obj))"
   ]
  },
  {
   "cell_type": "code",
   "execution_count": null,
   "metadata": {},
   "outputs": [],
   "source": []
  }
 ],
 "metadata": {
  "kernelspec": {
   "display_name": "Python 3 (ipykernel)",
   "language": "python",
   "name": "python3"
  },
  "language_info": {
   "codemirror_mode": {
    "name": "ipython",
    "version": 3
   },
   "file_extension": ".py",
   "mimetype": "text/x-python",
   "name": "python",
   "nbconvert_exporter": "python",
   "pygments_lexer": "ipython3",
   "version": "3.8.10"
  },
  "varInspector": {
   "cols": {
    "lenName": 16,
    "lenType": 16,
    "lenVar": 40
   },
   "kernels_config": {
    "python": {
     "delete_cmd_postfix": "",
     "delete_cmd_prefix": "del ",
     "library": "var_list.py",
     "varRefreshCmd": "print(var_dic_list())"
    },
    "r": {
     "delete_cmd_postfix": ") ",
     "delete_cmd_prefix": "rm(",
     "library": "var_list.r",
     "varRefreshCmd": "cat(var_dic_list()) "
    }
   },
   "types_to_exclude": [
    "module",
    "function",
    "builtin_function_or_method",
    "instance",
    "_Feature"
   ],
   "window_display": false
  }
 },
 "nbformat": 4,
 "nbformat_minor": 4
}
