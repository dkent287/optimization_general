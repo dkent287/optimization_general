{
 "cells": [
  {
   "cell_type": "code",
   "execution_count": 1,
   "metadata": {},
   "outputs": [],
   "source": [
    "from pyomo.environ import *\n",
    "import matplotlib.pyplot as plt\n",
    "#import numpy as np\n",
    "#import random"
   ]
  },
  {
   "cell_type": "code",
   "execution_count": 2,
   "metadata": {},
   "outputs": [],
   "source": [
    "model = AbstractModel()\n",
    "model.N = Param(mutable=True, default=8)\n",
    "model.i = RangeSet(1, model.N)\n",
    "model.j = Set(initialize=model.i)\n",
    "model.U = Var(model.i,model.j, within=Binary, initialize=1)\n",
    "\n",
    "def Crow_rule(model,i):\n",
    "    return sum(model.U[i,j] for j in model.j)<=1\n",
    "model.Crow = Constraint(model.i, rule=Crow_rule)\n",
    "\n",
    "def Ccol_rule(model,j):\n",
    "    return sum(model.U[i,j] for i in model.i)<=1\n",
    "model.Ccol = Constraint(model.j, rule=Ccol_rule )\n",
    "\n",
    "def Cdiag_rule1(model,i,j):\n",
    "    totalQueen=0\n",
    "    for r in model.i:\n",
    "        for c in model.j:\n",
    "            if j-c==i-r:\n",
    "                totalQueen+=model.U[c,r] \n",
    "    return totalQueen<=1\n",
    "model.Cdiag1 = Constraint(model.i,model.j, rule=Cdiag_rule1 )\n",
    "\n",
    "\n",
    "def Cdiag_rule2(model,i,j):\n",
    "    totalQueen=0\n",
    "    for r in model.i:\n",
    "        for c in model.j:\n",
    "            if j-c==-(i-r):\n",
    "                totalQueen+=model.U[c,r] \n",
    "    return totalQueen<=1\n",
    "model.Cdiag2 = Constraint(model.i,model.j, rule=Cdiag_rule2 )\n",
    "\n",
    "def Obj_rule(model):\n",
    "    return sum(model.U[i,j] for i in model.i for j in model.j)    \n",
    "model.obj = Objective(rule=Obj_rule, sense=maximize)\n",
    "opt = SolverFactory('glpk')"
   ]
  },
  {
   "cell_type": "code",
   "execution_count": 5,
   "metadata": {},
   "outputs": [],
   "source": [
    "#instance = model.create_instance(\"EX12.dat\")\n",
    "model.N=14;\n",
    "instance = model.create_instance()"
   ]
  },
  {
   "cell_type": "code",
   "execution_count": 6,
   "metadata": {},
   "outputs": [
    {
     "data": {
      "image/png": "[encoded data removed]",
      "text/plain": [
       "<Figure size 576x576 with 1 Axes>"
      ]
     },
     "metadata": {
      "needs_background": "light"
     },
     "output_type": "display_data"
    }
   ],
   "source": [
    "f, ax = plt.subplots(1, 1, figsize = (8,8))\n",
    "results = opt.solve(instance) # solves and updates instance\n",
    "for i in instance.i:\n",
    "    for j in instance.j:\n",
    "        X=value(instance.U[i,j])\n",
    "        if X==1:\n",
    "            plt.scatter( i,j,s=55,color='black')\n",
    "        else:\n",
    "            plt.scatter( i,j,s=10,color='red')\n",
    "plt.axis('off')\n",
    "plt.show()"
   ]
  },
  {
   "cell_type": "code",
   "execution_count": 5,
   "metadata": {},
   "outputs": [],
   "source": [
    "f.savefig('NQueen.png', format='png', dpi=1200)"
   ]
  },
  {
   "cell_type": "code",
   "execution_count": 6,
   "metadata": {},
   "outputs": [
    {
     "name": "stdout",
     "output_type": "stream",
     "text": [
      "# ==========================================================\n",
      "# = Solver Results                                         =\n",
      "# ==========================================================\n",
      "# ----------------------------------------------------------\n",
      "#   Problem Information\n",
      "# ----------------------------------------------------------\n",
      "Problem: \n",
      "- Name: unknown\n",
      "  Lower bound: 22.0\n",
      "  Upper bound: 22.0\n",
      "  Number of objectives: 1\n",
      "  Number of constraints: 1013\n",
      "  Number of variables: 485\n",
      "  Number of nonzeros: 15181\n",
      "  Sense: maximize\n",
      "# ----------------------------------------------------------\n",
      "#   Solver Information\n",
      "# ----------------------------------------------------------\n",
      "Solver: \n",
      "- Status: ok\n",
      "  Termination condition: optimal\n",
      "  Statistics: \n",
      "    Branch and bound: \n",
      "      Number of bounded subproblems: 87\n",
      "      Number of created subproblems: 87\n",
      "  Error rc: 0\n",
      "  Time: 0.317385196685791\n",
      "# ----------------------------------------------------------\n",
      "#   Solution Information\n",
      "# ----------------------------------------------------------\n",
      "Solution: \n",
      "- number of solutions: 0\n",
      "  number of solutions displayed: 0\n"
     ]
    }
   ],
   "source": [
    "results.write()"
   ]
  },
  {
   "cell_type": "code",
   "execution_count": null,
   "metadata": {},
   "outputs": [],
   "source": []
  }
 ],
 "metadata": {
  "kernelspec": {
   "display_name": "Python 3 (ipykernel)",
   "language": "python",
   "name": "python3"
  },
  "language_info": {
   "codemirror_mode": {
    "name": "ipython",
    "version": 3
   },
   "file_extension": ".py",
   "mimetype": "text/x-python",
   "name": "python",
   "nbconvert_exporter": "python",
   "pygments_lexer": "ipython3",
   "version": "3.8.10"
  },
  "varInspector": {
   "cols": {
    "lenName": 16,
    "lenType": 16,
    "lenVar": 40
   },
   "kernels_config": {
    "python": {
     "delete_cmd_postfix": "",
     "delete_cmd_prefix": "del ",
     "library": "var_list.py",
     "varRefreshCmd": "print(var_dic_list())"
    },
    "r": {
     "delete_cmd_postfix": ") ",
     "delete_cmd_prefix": "rm(",
     "library": "var_list.r",
     "varRefreshCmd": "cat(var_dic_list()) "
    }
   },
   "types_to_exclude": [
    "module",
    "function",
    "builtin_function_or_method",
    "instance",
    "_Feature"
   ],
   "window_display": false
  }
 },
 "nbformat": 4,
 "nbformat_minor": 4
}
