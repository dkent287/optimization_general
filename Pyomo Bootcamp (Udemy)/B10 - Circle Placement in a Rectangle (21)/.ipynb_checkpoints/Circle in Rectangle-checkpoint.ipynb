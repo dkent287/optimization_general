{
 "cells": [
  {
   "cell_type": "code",
   "execution_count": null,
   "metadata": {},
   "outputs": [],
   "source": [
    "from pyomo.environ import *\n",
    "import matplotlib.pyplot as plt\n",
    "import numpy as np"
   ]
  },
  {
   "cell_type": "code",
   "execution_count": null,
   "metadata": {},
   "outputs": [],
   "source": [
    "model = AbstractModel()\n",
    "model.i = Set()\n",
    "model.j = Set(initialize=model.i)\n",
    "model.R = Param(model.i)\n",
    "\n",
    "def lowband(model,i):\n",
    "    return (model.R[i],100)\n",
    "model.x = Var(model.i, bounds=lowband, within=NonNegativeReals, initialize=0)\n",
    "model.y = Var(model.i, bounds=lowband, within=NonNegativeReals, initialize=0)\n",
    "model.W = Var( bounds=(0,100), within=NonNegativeReals, initialize=0)\n",
    "model.L = Var( bounds=(0,100), within=NonNegativeReals, initialize=0)\n",
    "\n",
    "def rule_eq1(model,i,j):\n",
    "    if i>j:\n",
    "        return (model.x[i]-model.x[j])**2+(model.y[i]-model.y[j])**2 >=(model.R[i]+model.R[j])**2\n",
    "    else:\n",
    "        return Constraint.Skip;\n",
    "model.eq1 = Constraint(model.i,model.j,rule=rule_eq1)\n",
    "\n",
    "def rule_eq2(model,i):\n",
    "    return model.x[i] <=model.W-model.R[i]\n",
    "model.eq2 = Constraint(model.i,rule=rule_eq2)\n",
    "\n",
    "def rule_eq3(model,i):\n",
    "    return model.y[i] <=model.L-model.R[i]\n",
    "model.eq3 = Constraint(model.i,rule=rule_eq3)\n",
    "\n",
    "def Obj_rule(model):\n",
    "    return  model.W*model.L    \n",
    "model.obj = Objective(rule=Obj_rule, sense=minimize)\n",
    "\n"
   ]
  },
  {
   "cell_type": "code",
   "execution_count": null,
   "metadata": {},
   "outputs": [],
   "source": [
    "data = DataPortal()\n",
    "data.load(filename='A1.csv',set=model.i, select = (\"i\"))\n",
    "data.load(filename='A1.csv',param=(model.R),index=model.i)\n",
    "\n",
    "instance = model.create_instance(data)\n",
    "instance.pprint()\n"
   ]
  },
  {
   "cell_type": "code",
   "execution_count": null,
   "metadata": {},
   "outputs": [],
   "source": [
    "opt = SolverFactory('ipopt')\n",
    "results = opt.solve(instance) # solves and updates instance"
   ]
  },
  {
   "cell_type": "code",
   "execution_count": null,
   "metadata": {},
   "outputs": [],
   "source": [
    "#f, ax = plt.subplots(1, 1)\n",
    "fig = plt.figure(figsize=(8,8))\n",
    "theta=np.linspace(0,2*np.pi,100)\n",
    "for i in instance.i:\n",
    "    plt.scatter( value(instance.x[i]),value(instance.y[i]),label=str(i),s=30)\n",
    "    Xc=value(instance.x[i])+value(instance.R[i])*np.cos(theta)\n",
    "    Yc=value(instance.y[i])+value(instance.R[i])*np.sin(theta)\n",
    "    plt.plot(Xc,Yc)\n",
    "    plt.plot(value(instance.W)*np.ones(2),[0,value(instance.L)],lw=3)\n",
    "    plt.plot([0,value(instance.W)],value(instance.L)*np.ones(2),lw=3)\n",
    "\n",
    "plt.legend(loc='right')\n",
    "#plt.axis('off')\n",
    "plt.xlabel('W',fontweight='bold')\n",
    "plt.ylabel('L',fontweight='bold')\n",
    "plt.show()"
   ]
  },
  {
   "cell_type": "code",
   "execution_count": null,
   "metadata": {},
   "outputs": [],
   "source": [
    "print('d1=' , round(value(instance.L),2))\n",
    "print('d2=' , round(value(instance.W),2))"
   ]
  },
  {
   "cell_type": "code",
   "execution_count": null,
   "metadata": {},
   "outputs": [],
   "source": []
  }
 ],
 "metadata": {
  "kernelspec": {
   "display_name": "Python 3 (ipykernel)",
   "language": "python",
   "name": "python3"
  },
  "language_info": {
   "codemirror_mode": {
    "name": "ipython",
    "version": 3
   },
   "file_extension": ".py",
   "mimetype": "text/x-python",
   "name": "python",
   "nbconvert_exporter": "python",
   "pygments_lexer": "ipython3",
   "version": "3.8.10"
  },
  "varInspector": {
   "cols": {
    "lenName": 16,
    "lenType": 16,
    "lenVar": 40
   },
   "kernels_config": {
    "python": {
     "delete_cmd_postfix": "",
     "delete_cmd_prefix": "del ",
     "library": "var_list.py",
     "varRefreshCmd": "print(var_dic_list())"
    },
    "r": {
     "delete_cmd_postfix": ") ",
     "delete_cmd_prefix": "rm(",
     "library": "var_list.r",
     "varRefreshCmd": "cat(var_dic_list()) "
    }
   },
   "types_to_exclude": [
    "module",
    "function",
    "builtin_function_or_method",
    "instance",
    "_Feature"
   ],
   "window_display": false
  }
 },
 "nbformat": 4,
 "nbformat_minor": 4
}
