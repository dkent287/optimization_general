{
 "cells": [
  {
   "cell_type": "code",
   "execution_count": 1,
   "metadata": {},
   "outputs": [],
   "source": [
    "from pyomo.environ import *\n",
    "import matplotlib.pyplot as plt\n",
    "import numpy as np\n",
    "import random "
   ]
  },
  {
   "cell_type": "code",
   "execution_count": 2,
   "metadata": {},
   "outputs": [],
   "source": [
    "model = AbstractModel()\n",
    "model.N =Param(mutable=True) \n",
    "model.i = RangeSet(1,model.N)\n",
    "def initval(model,i):\n",
    "    return random.uniform(0,1)\n",
    "model.Xloc=Param(model.i,  within=NonNegativeReals, initialize=initval,mutable=True)\n",
    "model.Yloc=Param(model.i,  within=NonNegativeReals, initialize=initval, mutable=True)\n",
    "model.x = Var(bounds=(0,1), within=NonNegativeReals, initialize=0.1)\n",
    "model.y = Var(bounds=(0,1), within=NonNegativeReals, initialize=0.3)\n",
    "model.r = Var(bounds=(0,1), within=NonNegativeReals, initialize=0.5)\n",
    "model.area = Var(bounds=(0,1), within=NonNegativeReals, initialize=0)\n",
    "\n",
    "def rule_C2(model,i):\n",
    "    return (model.x-model.Xloc[i])**2+(model.y-model.Yloc[i])**2>=model.r**2\n",
    "model.C2   = Constraint(model.i,rule=rule_C2)\n",
    "\n",
    "def rule_C3(model):\n",
    "    return model.x>=model.r\n",
    "model.C3   = Constraint(rule=rule_C3)\n",
    "\n",
    "def rule_C4(model):\n",
    "    return model.y>=model.r\n",
    "model.C4   = Constraint(rule=rule_C4)\n",
    "\n",
    "def rule_C5(model):\n",
    "    return model.y<=1-model.r\n",
    "model.C5   = Constraint(rule=rule_C5)\n",
    "\n",
    "def rule_C6(model):\n",
    "    return model.x<=1-model.r\n",
    "model.C6   = Constraint(rule=rule_C6)\n",
    "\n",
    "def rule_obj(model):\n",
    "    return model.area==np.pi*model.r**2 \n",
    "model.C7   = Constraint(rule=rule_obj)\n",
    "\n",
    "model.obj1 = Objective(expr=model.area , sense=maximize)\n",
    "opt = SolverFactory('ipopt')\n"
   ]
  },
  {
   "cell_type": "code",
   "execution_count": 9,
   "metadata": {},
   "outputs": [],
   "source": [
    "model.N=50\n",
    "instance = model.create_instance()"
   ]
  },
  {
   "cell_type": "code",
   "execution_count": 10,
   "metadata": {},
   "outputs": [
    {
     "name": "stdout",
     "output_type": "stream",
     "text": [
      "r=   0.0986\n",
      "x=   0.1053\n",
      "y=   0.0986\n"
     ]
    },
    {
     "data": {
      "image/png": "[encoded data removed]",
      "text/plain": [
       "<Figure size 432x432 with 1 Axes>"
      ]
     },
     "metadata": {
      "needs_background": "light"
     },
     "output_type": "display_data"
    }
   ],
   "source": [
    "fig = plt.figure(figsize=(6,6))\n",
    "for i in instance.i:\n",
    "    plt.scatter(value(instance.Xloc[i]),value(instance.Yloc[i]),s=50)\n",
    "    \n",
    "results = opt.solve(instance) # solves and updates instance\n",
    "\n",
    "print('r=  ','%5.4f'% value(instance.r))\n",
    "print('x=  ','%5.4f'% value(instance.x))\n",
    "print('y=  ','%5.4f'% value(instance.y))\n",
    "\n",
    "theta=np.linspace(0,2*np.pi,100)\n",
    "Xc=value(instance.x)+value(instance.r)*np.cos(theta)\n",
    "Yc=value(instance.y)+value(instance.r)*np.sin(theta)\n",
    "plt.plot(Xc,Yc,'--',lw=3)\n",
    "plt.scatter(value(instance.x),value(instance.y),color='black',s=50)\n",
    "plt.xlabel('X')\n",
    "plt.ylabel('Y')\n",
    "plt.xlim(0,1)\n",
    "plt.ylim(0,1)\n",
    "plt.show()"
   ]
  },
  {
   "cell_type": "code",
   "execution_count": null,
   "metadata": {},
   "outputs": [],
   "source": []
  },
  {
   "cell_type": "code",
   "execution_count": null,
   "metadata": {},
   "outputs": [],
   "source": []
  }
 ],
 "metadata": {
  "kernelspec": {
   "display_name": "Python 3",
   "language": "python",
   "name": "python3"
  },
  "language_info": {
   "codemirror_mode": {
    "name": "ipython",
    "version": 3
   },
   "file_extension": ".py",
   "mimetype": "text/x-python",
   "name": "python",
   "nbconvert_exporter": "python",
   "pygments_lexer": "ipython3",
   "version": "3.8.8"
  },
  "varInspector": {
   "cols": {
    "lenName": 16,
    "lenType": 16,
    "lenVar": 40
   },
   "kernels_config": {
    "python": {
     "delete_cmd_postfix": "",
     "delete_cmd_prefix": "del ",
     "library": "var_list.py",
     "varRefreshCmd": "print(var_dic_list())"
    },
    "r": {
     "delete_cmd_postfix": ") ",
     "delete_cmd_prefix": "rm(",
     "library": "var_list.r",
     "varRefreshCmd": "cat(var_dic_list()) "
    }
   },
   "types_to_exclude": [
    "module",
    "function",
    "builtin_function_or_method",
    "instance",
    "_Feature"
   ],
   "window_display": false
  }
 },
 "nbformat": 4,
 "nbformat_minor": 4
}
