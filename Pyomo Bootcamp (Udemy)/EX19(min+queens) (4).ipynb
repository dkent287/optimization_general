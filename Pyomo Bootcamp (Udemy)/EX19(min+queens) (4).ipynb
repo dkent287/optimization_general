{
 "cells": [
  {
   "cell_type": "code",
   "execution_count": 1,
   "metadata": {},
   "outputs": [],
   "source": [
    "from pyomo.environ import *\n",
    "import matplotlib.pyplot as plt\n",
    "import numpy as np\n",
    "import random"
   ]
  },
  {
   "cell_type": "code",
   "execution_count": 2,
   "metadata": {},
   "outputs": [],
   "source": [
    "model = AbstractModel()\n",
    "model.N = Param(mutable=True, default=3)\n",
    "model.i = RangeSet(1, model.N)\n",
    "model.j = Set(initialize=model.i)\n",
    "model.U = Var(model.i,model.j, within=Binary, initialize=0)\n",
    "def Coverall_rule(model,i,j):\n",
    "    totalQueenDiag = sum(model.U[c,r] if (abs(j-c)==abs(i-r) or i==r  or j==c)  else 0 for r in model.i for c in model.j)\n",
    "    return totalQueenDiag>=1\n",
    "model.Coverall= Constraint(model.i,model.j, rule=Coverall_rule)\n",
    "def Crow_rule(model,i):\n",
    "    return sum(model.U[i,j] for j in model.j)<=1\n",
    "model.Crow = Constraint(model.i, rule=Crow_rule)\n",
    "def Ccol_rule(model,j):\n",
    "    return sum(model.U[i,j] for i in model.i)<=1\n",
    "model.Ccol = Constraint(model.j, rule=Ccol_rule )\n",
    "def Cdiag_rule1(model,i,j):\n",
    "    totalQueen = model.U[i,j]+sum(model.U[c,r] if (j-c)==(i-r) else 0 for r in model.i for c in model.j)\n",
    "    return totalQueen<=1\n",
    "model.Cdiag1 = Constraint(model.i,model.j, rule=Cdiag_rule1 )\n",
    "   \n",
    "def Cdiag_rule2(model,i,j):\n",
    "    totalQueen = sum(model.U[c,r] if (j-c==r-i) else 0 for r in model.i for c in model.j)\n",
    "    return totalQueen<=1\n",
    "model.Cdiag2 = Constraint(model.i,model.j, rule=Cdiag_rule2 )\n",
    "\n",
    "def Obj_rule(model):\n",
    "    return sum(model.U[i,j] for i in model.i for j in model.j)    \n",
    "model.obj = Objective(rule=Obj_rule, sense=minimize)\n",
    "opt = SolverFactory('glpk')\n",
    "\n"
   ]
  },
  {
   "cell_type": "code",
   "execution_count": 3,
   "metadata": {},
   "outputs": [],
   "source": [
    "instance = model.create_instance()\n",
    "results = opt.solve(instance) # solves and updates instance"
   ]
  },
  {
   "cell_type": "code",
   "execution_count": 4,
   "metadata": {},
   "outputs": [
    {
     "data": {
      "image/png": "[encoded data removed]",
      "text/plain": [
       "<Figure size 576x576 with 4 Axes>"
      ]
     },
     "metadata": {
      "needs_background": "light"
     },
     "output_type": "display_data"
    }
   ],
   "source": [
    "fig = plt.figure(figsize=(8,8))\n",
    "for counter in range(2,6):\n",
    "    ax1=plt.subplot(2, 2, counter-1)\n",
    "    n=counter*2\n",
    "    model.N=n\n",
    "    ax1.set_title('n= '+ str(n))\n",
    "    instance = model.create_instance()\n",
    "    results = opt.solve(instance) # solves and updates instance\n",
    "    for i in instance.i:\n",
    "        for j in instance.j:\n",
    "            X=value(instance.U[i,j])\n",
    "            if X==1:\n",
    "                plt.scatter( i,j,s=100,color='black')\n",
    "            else:\n",
    "                plt.scatter( i,j,s=10,color='red')\n",
    "    #plt.ticks('off')\n",
    "    plt.grid(True)\n",
    "plt.show()"
   ]
  },
  {
   "cell_type": "code",
   "execution_count": 5,
   "metadata": {},
   "outputs": [],
   "source": [
    "fig.savefig('GMinNQueen.png', format='png', dpi=1200)"
   ]
  },
  {
   "cell_type": "code",
   "execution_count": null,
   "metadata": {},
   "outputs": [],
   "source": []
  }
 ],
 "metadata": {
  "kernelspec": {
   "display_name": "Python 3",
   "language": "python",
   "name": "python3"
  },
  "language_info": {
   "codemirror_mode": {
    "name": "ipython",
    "version": 3
   },
   "file_extension": ".py",
   "mimetype": "text/x-python",
   "name": "python",
   "nbconvert_exporter": "python",
   "pygments_lexer": "ipython3",
   "version": "3.8.8"
  },
  "varInspector": {
   "cols": {
    "lenName": 16,
    "lenType": 16,
    "lenVar": 40
   },
   "kernels_config": {
    "python": {
     "delete_cmd_postfix": "",
     "delete_cmd_prefix": "del ",
     "library": "var_list.py",
     "varRefreshCmd": "print(var_dic_list())"
    },
    "r": {
     "delete_cmd_postfix": ") ",
     "delete_cmd_prefix": "rm(",
     "library": "var_list.r",
     "varRefreshCmd": "cat(var_dic_list()) "
    }
   },
   "types_to_exclude": [
    "module",
    "function",
    "builtin_function_or_method",
    "instance",
    "_Feature"
   ],
   "window_display": false
  }
 },
 "nbformat": 4,
 "nbformat_minor": 4
}
