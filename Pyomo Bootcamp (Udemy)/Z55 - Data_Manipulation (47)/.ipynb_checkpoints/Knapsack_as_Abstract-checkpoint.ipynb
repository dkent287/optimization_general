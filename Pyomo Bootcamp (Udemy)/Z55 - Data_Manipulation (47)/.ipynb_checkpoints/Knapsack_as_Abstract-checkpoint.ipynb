{
 "cells": [
  {
   "cell_type": "code",
   "execution_count": null,
   "metadata": {},
   "outputs": [],
   "source": [
    "from pyomo.environ import *\n",
    "import numpy as np"
   ]
  },
  {
   "cell_type": "code",
   "execution_count": null,
   "metadata": {},
   "outputs": [],
   "source": [
    "model = AbstractModel()\n",
    "\n",
    "model.ITEMS = Set()\n",
    "\n",
    "model.w = Param(model.ITEMS, within=PositiveReals)\n",
    "\n",
    "model.v = Param(model.ITEMS, within=PositiveReals)\n",
    "\n",
    "model.limit = Param(within=PositiveReals)\n",
    "\n",
    "model.x = Var(model.ITEMS, within=Binary)\n",
    "\n",
    "def weight_rule(model):\n",
    "    return sum(model.w[i]*model.x[i] for i in model.ITEMS) <= model.limit\n",
    "model.weight = Constraint(rule=weight_rule)\n",
    "\n",
    "def value_rule(model):\n",
    "    return sum(model.v[i]*model.x[i] for i in model.ITEMS)\n",
    "model.value = Objective(sense=maximize, rule=value_rule)"
   ]
  },
  {
   "cell_type": "code",
   "execution_count": null,
   "metadata": {},
   "outputs": [],
   "source": [
    "data = DataPortal()\n",
    "data.load(filename='A1.csv',set=model.ITEMS, select = (\"i\"))\n",
    "data.load(filename='A1.csv',param=(model.w,model.v),index=model.ITEMS)\n",
    "data.load(filename='A2.csv',param=model.limit, select = ('L'))\n",
    "instance = model.create_instance(data)\n",
    "instance.pprint()"
   ]
  },
  {
   "cell_type": "code",
   "execution_count": null,
   "metadata": {},
   "outputs": [],
   "source": [
    "opt = SolverFactory('glpk')\n",
    "results = opt.solve(instance) # solves and updates instance"
   ]
  },
  {
   "cell_type": "code",
   "execution_count": null,
   "metadata": {},
   "outputs": [],
   "source": [
    "print('objective function value:',value(instance.value))"
   ]
  },
  {
   "cell_type": "code",
   "execution_count": null,
   "metadata": {},
   "outputs": [],
   "source": [
    "for p in instance.x:\n",
    "    print(str(instance.x[p]),instance.x[p].value)"
   ]
  }
 ],
 "metadata": {
  "kernelspec": {
   "display_name": "Python 3 (ipykernel)",
   "language": "python",
   "name": "python3"
  },
  "language_info": {
   "codemirror_mode": {
    "name": "ipython",
    "version": 3
   },
   "file_extension": ".py",
   "mimetype": "text/x-python",
   "name": "python",
   "nbconvert_exporter": "python",
   "pygments_lexer": "ipython3",
   "version": "3.8.10"
  },
  "varInspector": {
   "cols": {
    "lenName": 16,
    "lenType": 16,
    "lenVar": 40
   },
   "kernels_config": {
    "python": {
     "delete_cmd_postfix": "",
     "delete_cmd_prefix": "del ",
     "library": "var_list.py",
     "varRefreshCmd": "print(var_dic_list())"
    },
    "r": {
     "delete_cmd_postfix": ") ",
     "delete_cmd_prefix": "rm(",
     "library": "var_list.r",
     "varRefreshCmd": "cat(var_dic_list()) "
    }
   },
   "types_to_exclude": [
    "module",
    "function",
    "builtin_function_or_method",
    "instance",
    "_Feature"
   ],
   "window_display": false
  }
 },
 "nbformat": 4,
 "nbformat_minor": 4
}
